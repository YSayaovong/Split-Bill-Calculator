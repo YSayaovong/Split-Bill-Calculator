# Step 1: Prompt for the total cost of the meal
meal_cost = float(input("Enter the total cost of the meal: "))

# Step 2: Prompt for the tip percentage
tip_percentage = float(input("Enter the tip percentage you would like to apply (e.g., 15 for 15%): "))

# Step 3: Prompt for the number of people at the table
num_people = int(input("Enter the number of people at the table: "))

# Step 4: Calculate the tip amount
tip_amount = (tip_percentage / 100) * meal_cost

# Step 5: Calculate the total cost of the meal, including the tip
total_cost = meal_cost + tip_amount

# Step 6: Divide the total cost by the number of people at the table
cost_per_person = total_cost / num_people

# Step 7: Display the tip amount, total cost, and cost per person
print("\n--- Bill Summary ---")
print(f"Tip amount: ${tip_amount:.2f}")
print(f"Total cost (including tip): ${total_cost:.2f}")
print(f"Cost per person: ${cost_per_person:.2f}")